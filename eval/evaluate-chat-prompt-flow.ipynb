{
 "cells": [
  {
   "cell_type": "markdown",
   "metadata": {},
   "source": [
    "# Local Evaluation - Groundedness\n",
    "\n",
    "After you have setup and configured the prompt flow, its time to evaluation its performance. Here we can use the prompt flow SDK to test different questions and see how the prompt flow performs using the evaluation prompt flows provided."
   ]
  },
  {
   "cell_type": "code",
   "execution_count": 1,
   "metadata": {},
   "outputs": [
    {
     "data": {
      "text/plain": [
       "True"
      ]
     },
     "execution_count": 1,
     "metadata": {},
     "output_type": "execute_result"
    }
   ],
   "source": [
    "from promptflow import PFClient\n",
    "\n",
    "pf_client = PFClient()\n",
    "\n",
    "from dotenv import load_dotenv\n",
    "\n",
    "load_dotenv()"
   ]
  },
  {
   "cell_type": "code",
   "execution_count": 2,
   "metadata": {},
   "outputs": [
    {
     "name": "stderr",
     "output_type": "stream",
     "text": [
      "[2024-01-25 19:21:14,433][promptflow._sdk.entities._connection][WARNING] - Please use connection.secrets[key] to access secrets.\n"
     ]
    },
    {
     "name": "stdout",
     "output_type": "stream",
     "text": [
      "2024-01-25 19:21:14 +0000   13712 execution.flow     INFO     Start executing nodes in thread pool mode.\n",
      "2024-01-25 19:21:14 +0000   13712 execution.flow     INFO     Start to run 5 nodes with concurrency level 16.\n",
      "2024-01-25 19:21:14 +0000   13712 execution.flow     INFO     Executing node question_embedding. node run id: 19a4e7be-dedc-489b-8109-51e6c0d06d99_question_embedding_0\n",
      "2024-01-25 19:21:14 +0000   13712 execution.flow     INFO     Executing node customer_lookup. node run id: 19a4e7be-dedc-489b-8109-51e6c0d06d99_customer_lookup_0\n",
      "2024-01-25 19:21:15 +0000   13712 execution.flow     INFO     Node question_embedding completes.\n",
      "2024-01-25 19:21:15 +0000   13712 execution.flow     INFO     Executing node retrieve_documentation. node run id: 19a4e7be-dedc-489b-8109-51e6c0d06d99_retrieve_documentation_0\n",
      "2024-01-25 19:21:16 +0000   13712 execution.flow     INFO     Node retrieve_documentation completes.\n",
      "2024-01-25 19:21:16 +0000   13712 execution.flow     INFO     Node customer_lookup completes.\n",
      "2024-01-25 19:21:16 +0000   13712 execution.flow     INFO     Executing node customer_prompt. node run id: 19a4e7be-dedc-489b-8109-51e6c0d06d99_customer_prompt_0\n",
      "2024-01-25 19:21:16 +0000   13712 execution.flow     INFO     Node customer_prompt completes.\n",
      "2024-01-25 19:21:16 +0000   13712 execution.flow     INFO     Executing node llm_response. node run id: 19a4e7be-dedc-489b-8109-51e6c0d06d99_llm_response_0\n",
      "2024-01-25 19:21:17 +0000   13712 execution.flow     WARNING  Output of llm_response is not json serializable, use str to store it.\n",
      "2024-01-25 19:21:17 +0000   13712 execution.flow     INFO     Node llm_response completes.\n"
     ]
    }
   ],
   "source": [
    "# Add a question to test the base prompt flow.\n",
    "question = \"Can you tell me about your jackets?\"\n",
    "customerId = \"4\"\n",
    "output = pf_client.test(\n",
    "    flow=\"../contoso-chat\", # Path to the flow directory\n",
    "    inputs={ # Inputs to the flow\n",
    "        \"chat_history\": [],\n",
    "        \"question\": question,\n",
    "        \"customerId\": customerId,\n",
    "    },\n",
    ")\n",
    "\n",
    "output[\"answer\"] = \"\".join(list(output[\"answer\"]))"
   ]
  },
  {
   "cell_type": "code",
   "execution_count": 3,
   "metadata": {},
   "outputs": [
    {
     "data": {
      "text/plain": [
       "{'answer': \"Hello Sarah Lee! 😊 I'd be happy to tell you about our jackets. We have two fantastic options that you might love:\\n\\n1. Summit Breeze Jacket: 🏔️ This lightweight, windproof jacket is perfect for outdoor adventures. It's water-resistant, has adjustable cuffs, and comes with secure zippered pockets. The jacket features reflective accents for enhanced visibility during your night treks. It's a rugged yet chic choice for hiking! 🌲\\n\\n2. RainGuard Hiking Jacket: ☔️ This jacket is designed with waterproof, breathable fabric to keep you dry and comfortable during your outdoor undertakings. It has adjustable features, multiple pockets, and ventilation zippers for increased airflow. The reflective details make it perfect for evening treks. 🌙\\n\\nBased on your previous purchases, the Summit Breeze Jacket would pair well with your TrekReady Hiking Boots, and the RainGuard Hiking Jacket would complement your TrailBlaze Hiking Pants. Stay stylish and adventure-ready, Sarah Lee! 👟👖🧥\",\n",
       " 'context': [{'id': '3',\n",
       "   'title': 'Summit Breeze Jacket',\n",
       "   'content': \"Discover the joy of hiking with MountainStyle's Summit Breeze Jacket. This lightweight jacket is your perfect companion for outdoor adventures. Sporting a trail-ready, windproof design and a water-resistant fabric, it's ready to withstand any weather. The breathable polyester material and adjustable cuffs keep you comfortable, whether you're ascending a mountain or strolling through a park. And its sleek black color adds style to function. The jacket features a full-zip front closure, adjustable hood, and secure zippered pockets. Experience the comfort of its inner lining and the convenience of its packable design. Crafted for night trekkers too, the jacket has reflective accents for enhanced visibility. Rugged yet chic, the Summit Breeze Jacket is more than a hiking essential, it's the gear that inspires you to reach new heights. Choose adventure, choose the Summit Breeze Jacket.\",\n",
       "   'url': '/products/summit-breeze-jacket'},\n",
       "  {'id': '17',\n",
       "   'title': 'RainGuard Hiking Jacket',\n",
       "   'content': \"Introducing the MountainStyle RainGuard Hiking Jacket - the ultimate solution for weatherproof comfort during your outdoor undertakings! Designed with waterproof, breathable fabric, this jacket promises an outdoor experience that's as dry as it is comfortable. The rugged construction assures durability, while the adjustable hood provides a customizable fit against wind and rain. Featuring multiple pockets for safe, convenient storage and adjustable cuffs and hem, you can tailor the jacket to suit your needs on-the-go. And, don't worry about overheating during intense activities - it's equipped with ventilation zippers for increased airflow. Reflective details ensure visibility even during low-light conditions, making it perfect for evening treks. With its lightweight, packable design, carrying it inside your backpack requires minimal effort. With options for men and women, the RainGuard Hiking Jacket is perfect for hiking, camping, trekking and countless other outdoor adventures. Don't let the weather stand in your way - embrace the outdoors with MountainStyle RainGuard Hiking Jacket!\",\n",
       "   'url': '/products/rainguard-hiking-jacket'},\n",
       "  {'id': '4',\n",
       "   'title': 'TrekReady Hiking Boots',\n",
       "   'content': \"Introducing the TrekReady Hiking Boots - stepping up your hiking game, one footprint at a time! Crafted from leather, these stylistic Trailmates are made to last. TrekReady infuses durability with its reinforced stitching and toe protection, making sure your journey is never stopped short. Comfort? They have that covered too! The boots are a haven with their breathable materials, cushioned insole, with padded collar and tongue; all nestled neatly within their lightweight design. As they say, it's what's inside that counts - so inside you'll find a moisture-wicking lining that quarantines stank and keeps your feet fresh as that mountaintop breeze. Remember the fear of slippery surfaces? With these boots, you can finally tell it to 'take a hike'! Their shock-absorbing midsoles and excellent traction capabilities promise stability at your every step. Beautifully finished in a traditional lace-up system, every adventurer deserves a pair of TrekReady Hiking Boots. Hike more, worry less!\",\n",
       "   'url': '/products/trekready-hiking-boots'}]}"
      ]
     },
     "execution_count": 3,
     "metadata": {},
     "output_type": "execute_result"
    }
   ],
   "source": [
    "output"
   ]
  },
  {
   "cell_type": "markdown",
   "metadata": {},
   "source": [
    "Test the groundedness of the prompt flow with the answer from the above question."
   ]
  },
  {
   "cell_type": "code",
   "execution_count": 4,
   "metadata": {},
   "outputs": [
    {
     "name": "stdout",
     "output_type": "stream",
     "text": [
      "2024-01-25 19:21:19 +0000   13712 execution.flow     INFO     Start executing nodes in thread pool mode.\n",
      "2024-01-25 19:21:19 +0000   13712 execution.flow     INFO     Start to run 2 nodes with concurrency level 16.\n",
      "2024-01-25 19:21:19 +0000   13712 execution.flow     INFO     Executing node groundedness_score. node run id: 83dab139-de0a-4781-9836-882cc5f41aac_groundedness_score_0\n",
      "2024-01-25 19:21:20 +0000   13712 execution.flow     INFO     Node groundedness_score completes.\n",
      "2024-01-25 19:21:20 +0000   13712 execution.flow     INFO     Executing node concat_scores. node run id: 83dab139-de0a-4781-9836-882cc5f41aac_concat_scores_0\n",
      "2024-01-25 19:21:20 +0000   13712 execution.flow     INFO     Node concat_scores completes.\n",
      "2024-01-25 19:21:20 +0000   13712 execution.flow     INFO     Start to run 1 nodes with concurrency level 16.\n",
      "2024-01-25 19:21:20 +0000   13712 execution.flow     INFO     Executing node aggregate_variants_results. node run id: 83a0b25a-f9c6-4f66-bd4b-843d60979f69_aggregate_variants_results_reduce\n",
      "2024-01-25 19:21:20 +0000   13712 execution.flow     INFO     Node aggregate_variants_results completes.\n"
     ]
    }
   ],
   "source": [
    "test = pf_client.test(\n",
    "    flow=\"groundedness\",\n",
    "    inputs={\n",
    "        \"question\": question,\n",
    "        \"context\": str(output[\"context\"]),\n",
    "        \"answer\": output[\"answer\"],\n",
    "    },\n",
    ")"
   ]
  },
  {
   "cell_type": "code",
   "execution_count": 5,
   "metadata": {},
   "outputs": [
    {
     "data": {
      "text/plain": [
       "{'gpt_groundedness': 5.0}"
      ]
     },
     "execution_count": 5,
     "metadata": {},
     "output_type": "execute_result"
    }
   ],
   "source": [
    "test"
   ]
  },
  {
   "cell_type": "markdown",
   "metadata": {},
   "source": [
    "# Local Evaluation - Multiple Metrics \n",
    "\n",
    "Now use the same prompt flow and test it against the Multi Evaluation flow for groundedness, coherence, fluency, and relevance."
   ]
  },
  {
   "cell_type": "code",
   "execution_count": 6,
   "metadata": {},
   "outputs": [
    {
     "name": "stdout",
     "output_type": "stream",
     "text": [
      "2024-01-25 19:21:20 +0000   13712 execution.flow     INFO     Start executing nodes in thread pool mode.\n",
      "2024-01-25 19:21:20 +0000   13712 execution.flow     INFO     Start to run 8 nodes with concurrency level 16.\n",
      "2024-01-25 19:21:20 +0000   13712 execution.flow     INFO     Executing node coherence_score. node run id: c9af746f-f6ce-4f4f-bc53-6da9f0fdddbc_coherence_score_0\n",
      "2024-01-25 19:21:20 +0000   13712 execution.flow     INFO     Executing node fluency_score. node run id: c9af746f-f6ce-4f4f-bc53-6da9f0fdddbc_fluency_score_0\n",
      "2024-01-25 19:21:20 +0000   13712 execution.flow     INFO     Executing node groundedness_score. node run id: c9af746f-f6ce-4f4f-bc53-6da9f0fdddbc_groundedness_score_0\n",
      "2024-01-25 19:21:20 +0000   13712 execution.flow     INFO     Executing node relevance_score. node run id: c9af746f-f6ce-4f4f-bc53-6da9f0fdddbc_relevance_score_0\n",
      "2024-01-25 19:21:21 +0000   13712 execution.flow     INFO     Node coherence_score completes.\n",
      "2024-01-25 19:21:21 +0000   13712 execution.flow     INFO     Executing node coherence_concat_scores. node run id: c9af746f-f6ce-4f4f-bc53-6da9f0fdddbc_coherence_concat_scores_0\n",
      "2024-01-25 19:21:21 +0000   13712 execution.flow     INFO     Node coherence_concat_scores completes.\n",
      "2024-01-25 19:21:22 +0000   13712 execution.flow     INFO     Node fluency_score completes.\n",
      "2024-01-25 19:21:22 +0000   13712 execution.flow     INFO     Executing node fluency_concat_scores. node run id: c9af746f-f6ce-4f4f-bc53-6da9f0fdddbc_fluency_concat_scores_0\n",
      "2024-01-25 19:21:22 +0000   13712 execution.flow     INFO     Node fluency_concat_scores completes.\n",
      "2024-01-25 19:21:22 +0000   13712 execution.flow     INFO     Node relevance_score completes.\n",
      "2024-01-25 19:21:22 +0000   13712 execution.flow     INFO     Executing node relevance_concat_scores. node run id: c9af746f-f6ce-4f4f-bc53-6da9f0fdddbc_relevance_concat_scores_0\n",
      "2024-01-25 19:21:22 +0000   13712 execution.flow     INFO     Node relevance_concat_scores completes.\n",
      "2024-01-25 19:21:22 +0000   13712 execution.flow     INFO     Node groundedness_score completes.\n",
      "2024-01-25 19:21:22 +0000   13712 execution.flow     INFO     Executing node groundedness_concat_scores. node run id: c9af746f-f6ce-4f4f-bc53-6da9f0fdddbc_groundedness_concat_scores_0\n",
      "2024-01-25 19:21:22 +0000   13712 execution.flow     INFO     Node groundedness_concat_scores completes.\n",
      "2024-01-25 19:21:22 +0000   13712 execution.flow     INFO     Start to run 4 nodes with concurrency level 16.\n",
      "2024-01-25 19:21:22 +0000   13712 execution.flow     INFO     Executing node coherence_aggregate_variants_results. node run id: 94fc60d0-a17b-4283-b536-4e2d0b8ebd2b_coherence_aggregate_variants_results_reduce\n",
      "2024-01-25 19:21:22 +0000   13712 execution.flow     INFO     Executing node fluency_aggregate_variants_results. node run id: 94fc60d0-a17b-4283-b536-4e2d0b8ebd2b_fluency_aggregate_variants_results_reduce\n",
      "2024-01-25 19:21:22 +0000   13712 execution.flow     INFO     Node coherence_aggregate_variants_results completes.\n",
      "2024-01-25 19:21:22 +0000   13712 execution.flow     INFO     Executing node groundedness_aggregate_variants_results. node run id: 94fc60d0-a17b-4283-b536-4e2d0b8ebd2b_groundedness_aggregate_variants_results_reduce\n",
      "2024-01-25 19:21:22 +0000   13712 execution.flow     INFO     Executing node relevance_aggregate_variants_results. node run id: 94fc60d0-a17b-4283-b536-4e2d0b8ebd2b_relevance_aggregate_variants_results_reduce\n",
      "2024-01-25 19:21:22 +0000   13712 execution.flow     INFO     Node fluency_aggregate_variants_results completes.\n",
      "2024-01-25 19:21:22 +0000   13712 execution.flow     INFO     Node groundedness_aggregate_variants_results completes.\n",
      "2024-01-25 19:21:22 +0000   13712 execution.flow     INFO     Node relevance_aggregate_variants_results completes.\n"
     ]
    }
   ],
   "source": [
    "test_multi = pf_client.test(\n",
    "    \"multi_flow\",\n",
    "    inputs={\n",
    "        \"question\": question,\n",
    "        \"context\": str(output[\"context\"]),\n",
    "        \"answer\": output[\"answer\"],\n",
    "    },\n",
    ")"
   ]
  },
  {
   "cell_type": "code",
   "execution_count": 7,
   "metadata": {},
   "outputs": [
    {
     "data": {
      "text/plain": [
       "{'gpt_coherence': 5.0,\n",
       " 'gpt_fluency': 5.0,\n",
       " 'gpt_groundedness': 5.0,\n",
       " 'gpt_relevance': 5.0}"
      ]
     },
     "execution_count": 7,
     "metadata": {},
     "output_type": "execute_result"
    }
   ],
   "source": [
    "test_multi"
   ]
  },
  {
   "cell_type": "markdown",
   "metadata": {},
   "source": [
    "# AI Studio Azure batch run on an evaluation json dataset\n",
    "\n",
    "Now in order to test these more thoroughly, we can use the Azure AI Studio to run batches of test data with the evaluation prompt flow on a larger dataset."
   ]
  },
  {
   "cell_type": "code",
   "execution_count": 8,
   "metadata": {},
   "outputs": [],
   "source": [
    "import json\n",
    "# Import required libraries\n",
    "from promptflow.azure import PFClient\n",
    "\n",
    "# Import required libraries\n",
    "from azure.identity import DefaultAzureCredential, InteractiveBrowserCredential"
   ]
  },
  {
   "cell_type": "code",
   "execution_count": 9,
   "metadata": {},
   "outputs": [],
   "source": [
    "try:\n",
    "    credential = DefaultAzureCredential()\n",
    "    # Check if given credential can get token successfully.\n",
    "    credential.get_token(\"https://management.azure.com/.default\")\n",
    "except Exception as ex:\n",
    "    # Fall back to InteractiveBrowserCredential in case DefaultAzureCredential not work\n",
    "    credential = InteractiveBrowserCredential()"
   ]
  },
  {
   "cell_type": "markdown",
   "metadata": {},
   "source": [
    "Populate the `config.json` file with the subscription_id, resource_group, and workspace_name."
   ]
  },
  {
   "cell_type": "code",
   "execution_count": 10,
   "metadata": {},
   "outputs": [
    {
     "name": "stderr",
     "output_type": "stream",
     "text": [
      "Found the config file in: ../config.json\n"
     ]
    }
   ],
   "source": [
    "config_path = \"../config.json\"\n",
    "pf_azure_client = PFClient.from_config(credential=credential, path=config_path)"
   ]
  },
  {
   "cell_type": "markdown",
   "metadata": {},
   "source": [
    "Add the runtime from the AI Studio that will be used for the cloud batch runs."
   ]
  },
  {
   "cell_type": "code",
   "execution_count": 11,
   "metadata": {},
   "outputs": [],
   "source": [
    "# Update the runtime to the name of the runtime you created previously\n",
    "runtime = \"automatic\"\n",
    "# load flow\n",
    "flow = \"../contoso-chat\"\n",
    "# load data\n",
    "data = \"../data/salestestdata.jsonl\""
   ]
  },
  {
   "cell_type": "code",
   "execution_count": 12,
   "metadata": {},
   "outputs": [
    {
     "name": "stdout",
     "output_type": "stream",
     "text": [
      "2024_01_25_192137chat_base_run\n"
     ]
    }
   ],
   "source": [
    "# get current time stamp for run name\n",
    "import datetime\n",
    "now = datetime.datetime.now()\n",
    "timestamp = now.strftime(\"%Y_%m_%d_%H%M%S\")\n",
    "run_name = timestamp+\"chat_base_run\"\n",
    "print(run_name)"
   ]
  },
  {
   "cell_type": "markdown",
   "metadata": {},
   "source": [
    "Create a base run to use as the variant for the evaluation runs. \n",
    "\n",
    "_NOTE: If you get \"'An existing connection was forcibly closed by the remote host'\" run the cell again._"
   ]
  },
  {
   "cell_type": "code",
   "execution_count": 13,
   "metadata": {},
   "outputs": [
    {
     "name": "stderr",
     "output_type": "stream",
     "text": [
      "\u001b[32mUploading salestestdata.jsonl\u001b[32m (< 1 MB): 100%|██████████| 465/465 [00:00<00:00, 2.94kB/s]\n",
      "\u001b[39m\n",
      "\n",
      "\u001b[32mUploading contoso-chat (0.68 MBs): 100%|██████████| 678978/678978 [00:01<00:00, 484734.79it/s]\n",
      "\u001b[39m\n",
      "\n",
      "[2024-01-25 19:21:42,238][promptflow][WARNING] - You're using automatic runtime, if it's first time you're using it, it may take a while to build runtime and you may see 'NotStarted' status for a while. \n"
     ]
    },
    {
     "name": "stdout",
     "output_type": "stream",
     "text": [
      "Portal url: https://ai.azure.com/projectflows/bulkrun/run/2024_01_25_192137chat_base_run/details?wsid=/subscriptions/04ae8a5b-5828-493d-9ce1-8705da496495/resourcegroups/contoso-chat-rg/providers/Microsoft.MachineLearningServices/workspaces/contoso-chat-sf-aiproj\n",
      "name: 2024_01_25_192137chat_base_run\n",
      "created_on: '2024-01-25T19:21:46.938547+00:00'\n",
      "status: NotStarted\n",
      "display_name: 2024_01_25_192137chat_base_run\n",
      "description:\n",
      "tags: {}\n",
      "properties:\n",
      "  azureml.promptflow.runtime_name: automatic\n",
      "  azureml.promptflow.runtime_version: 20240116.v1\n",
      "  azureml.promptflow.definition_file_name: flow.dag.yaml\n",
      "  azureml.promptflow.flow_lineage_id: a6117409b8b717c7e79942d8573769a6d1f4ac180e7fabad302590d2b43bff3c\n",
      "  azureml.promptflow.flow_definition_datastore_name: workspaceblobstore\n",
      "  azureml.promptflow.flow_definition_blob_path: LocalUpload/3580a9e4be957e1df132771a26712326/contoso-chat/flow.dag.yaml\n",
      "  azureml.promptflow.inputs_mapping: '{\"customerId\":\"${data.customerId}\",\"question\":\"${data.question}\"}'\n",
      "  _azureml.evaluation_run: promptflow.BatchRun\n",
      "  azureml.promptflow.session_id: 89433bc0624e2e910ff7caaf514c4b220e5edb6b138d006e\n",
      "creation_context:\n",
      "  userObjectId: bf82fe2c-1a0d-4f0c-8b27-bd7a10a5aa0d\n",
      "  userPuId: 1003200348E4064F\n",
      "  userIdp:\n",
      "  userAltSecId:\n",
      "  userIss: https://sts.windows.net/d2f64b03-2cce-4f20-900e-b81248ebc1a8/\n",
      "  userTenantId: d2f64b03-2cce-4f20-900e-b81248ebc1a8\n",
      "  userName: User1-37282004\n",
      "  upn:\n",
      "start_time:\n",
      "end_time:\n",
      "duration:\n",
      "portal_url: \n",
      "  https://ai.azure.com/projectflows/bulkrun/run/2024_01_25_192137chat_base_run/details?wsid=/subscriptions/04ae8a5b-5828-493d-9ce1-8705da496495/resourcegroups/contoso-chat-rg/providers/Microsoft.MachineLearningServices/workspaces/contoso-chat-sf-aiproj\n",
      "data: \n",
      "  azureml://datastores/workspaceblobstore/paths/LocalUpload/4d587c1ae8d46401e3a71b74abe367df/salestestdata.jsonl\n",
      "output:\n",
      "\n"
     ]
    }
   ],
   "source": [
    "# create base run in Azure Ai Studio\n",
    "base_run = pf_azure_client.run(\n",
    "    flow=flow,\n",
    "    data=data,\n",
    "    column_mapping={\n",
    "        # reference data\n",
    "        \"customerId\": \"${data.customerId}\",\n",
    "        \"question\": \"${data.question}\",\n",
    "    },\n",
    "    runtime=runtime,\n",
    "    # create a display name as current datetime\n",
    "    display_name=run_name,\n",
    "    name=run_name\n",
    ")\n",
    "print(base_run)"
   ]
  },
  {
   "cell_type": "code",
   "execution_count": 14,
   "metadata": {},
   "outputs": [
    {
     "name": "stdout",
     "output_type": "stream",
     "text": [
      "(Run status is 'NotStarted', continue streaming...)\n",
      "(Run status is 'NotStarted', continue streaming...)\n",
      "(Run status is 'NotStarted', continue streaming...)\n",
      "(Run status is 'NotStarted', continue streaming...)\n",
      "(Run status is 'NotStarted', continue streaming...)\n",
      "======= Run Summary =======\n",
      "Run name: \"2024_01_25_192137chat_base_run\"\n",
      "Run status: \"Failed\"\n",
      "Start time: \"2024-01-25 19:25:13.841565+00:00\"\n",
      "Duration: \"0:00:00\"\n",
      "Run url: \"https://ai.azure.com/projectflows/bulkrun/run/2024_01_25_192137chat_base_run/details?wsid=/subscriptions/04ae8a5b-5828-493d-9ce1-8705da496495/resourcegroups/contoso-chat-rg/providers/Microsoft.MachineLearningServices/workspaces/contoso-chat-sf-aiproj\""
     ]
    },
    {
     "ename": "InvalidRunStatusError",
     "evalue": "Failed to submit bulk run due to Automatic runtime provision failed, please check promptflow-automatic.log under current run for details.",
     "output_type": "error",
     "traceback": [
      "\u001b[0;31m---------------------------------------------------------------------------\u001b[0m",
      "\u001b[0;31mInvalidRunStatusError\u001b[0m                     Traceback (most recent call last)",
      "Cell \u001b[0;32mIn[14], line 1\u001b[0m\n\u001b[0;32m----> 1\u001b[0m \u001b[43mpf_azure_client\u001b[49m\u001b[38;5;241;43m.\u001b[39;49m\u001b[43mstream\u001b[49m\u001b[43m(\u001b[49m\u001b[43mbase_run\u001b[49m\u001b[43m)\u001b[49m\n",
      "File \u001b[0;32m/usr/local/lib/python3.11/site-packages/promptflow/azure/_pf_client.py:273\u001b[0m, in \u001b[0;36mPFClient.stream\u001b[0;34m(self, run, raise_on_error)\u001b[0m\n\u001b[1;32m    271\u001b[0m \u001b[38;5;28;01mif\u001b[39;00m \u001b[38;5;28misinstance\u001b[39m(run, Run):\n\u001b[1;32m    272\u001b[0m     run \u001b[38;5;241m=\u001b[39m run\u001b[38;5;241m.\u001b[39mname\n\u001b[0;32m--> 273\u001b[0m \u001b[38;5;28;01mreturn\u001b[39;00m \u001b[38;5;28;43mself\u001b[39;49m\u001b[38;5;241;43m.\u001b[39;49m\u001b[43mruns\u001b[49m\u001b[38;5;241;43m.\u001b[39;49m\u001b[43mstream\u001b[49m\u001b[43m(\u001b[49m\u001b[43mrun\u001b[49m\u001b[43m,\u001b[49m\u001b[43m \u001b[49m\u001b[43mraise_on_error\u001b[49m\u001b[43m)\u001b[49m\n",
      "File \u001b[0;32m/usr/local/lib/python3.11/site-packages/promptflow/_sdk/_telemetry/activity.py:187\u001b[0m, in \u001b[0;36mmonitor_operation.<locals>.monitor.<locals>.wrapper\u001b[0;34m(self, *args, **kwargs)\u001b[0m\n\u001b[1;32m    185\u001b[0m     thread \u001b[38;5;241m=\u001b[39m threading\u001b[38;5;241m.\u001b[39mThread(target\u001b[38;5;241m=\u001b[39mcheck_latest_version, daemon\u001b[38;5;241m=\u001b[39m\u001b[38;5;28;01mTrue\u001b[39;00m)\n\u001b[1;32m    186\u001b[0m     thread\u001b[38;5;241m.\u001b[39mstart()\n\u001b[0;32m--> 187\u001b[0m \u001b[38;5;28;01mreturn\u001b[39;00m \u001b[43mf\u001b[49m\u001b[43m(\u001b[49m\u001b[38;5;28;43mself\u001b[39;49m\u001b[43m,\u001b[49m\u001b[43m \u001b[49m\u001b[38;5;241;43m*\u001b[39;49m\u001b[43margs\u001b[49m\u001b[43m,\u001b[49m\u001b[43m \u001b[49m\u001b[38;5;241;43m*\u001b[39;49m\u001b[38;5;241;43m*\u001b[39;49m\u001b[43mkwargs\u001b[49m\u001b[43m)\u001b[49m\n",
      "File \u001b[0;32m/usr/local/lib/python3.11/site-packages/promptflow/azure/operations/_run_operations.py:661\u001b[0m, in \u001b[0;36mRunOperations.stream\u001b[0;34m(self, run, raise_on_error)\u001b[0m\n\u001b[1;32m    659\u001b[0m     error_message \u001b[38;5;241m=\u001b[39m \u001b[38;5;124m\"\u001b[39m\u001b[38;5;124mRun is canceled.\u001b[39m\u001b[38;5;124m\"\u001b[39m\n\u001b[1;32m    660\u001b[0m \u001b[38;5;28;01mif\u001b[39;00m raise_on_error:\n\u001b[0;32m--> 661\u001b[0m     \u001b[38;5;28;01mraise\u001b[39;00m InvalidRunStatusError(error_message)\n\u001b[1;32m    662\u001b[0m \u001b[38;5;28;01melse\u001b[39;00m:\n\u001b[1;32m    663\u001b[0m     print_red_error(error_message)\n",
      "\u001b[0;31mInvalidRunStatusError\u001b[0m: Failed to submit bulk run due to Automatic runtime provision failed, please check promptflow-automatic.log under current run for details."
     ]
    }
   ],
   "source": [
    "pf_azure_client.stream(base_run)"
   ]
  },
  {
   "cell_type": "code",
   "execution_count": null,
   "metadata": {},
   "outputs": [],
   "source": [
    "details = pf_azure_client.get_details(base_run)\n",
    "details.head(10)"
   ]
  },
  {
   "cell_type": "markdown",
   "metadata": {},
   "source": [
    "# Cloud Eval run on Json Data"
   ]
  },
  {
   "cell_type": "code",
   "execution_count": null,
   "metadata": {},
   "outputs": [],
   "source": [
    "eval_flow = \"multi_flow/\"\n",
    "data = \"../data/salestestdata.jsonl\"\n",
    "run_name = timestamp+\"chat_eval_run\"\n",
    "print(run_name)\n",
    "\n",
    "eval_run_variant = pf_azure_client.run(\n",
    "    flow=eval_flow,\n",
    "    data=data,  # path to the data file\n",
    "    run=base_run,  # use run as the variant\n",
    "    column_mapping={\n",
    "        # reference data\n",
    "        \"customerId\": \"${data.customerId}\",\n",
    "        \"question\": \"${data.question}\",\n",
    "        \"context\": \"${run.outputs.context}\",\n",
    "        # reference the run's output\n",
    "        \"answer\": \"${run.outputs.answer}\",\n",
    "    },\n",
    "    runtime=runtime,\n",
    "    display_name=run_name,\n",
    "    name=run_name\n",
    ")"
   ]
  },
  {
   "cell_type": "code",
   "execution_count": null,
   "metadata": {},
   "outputs": [],
   "source": [
    "pf_azure_client.stream(eval_run_variant)"
   ]
  },
  {
   "cell_type": "code",
   "execution_count": null,
   "metadata": {},
   "outputs": [],
   "source": [
    "details = pf_azure_client.get_details(eval_run_variant)\n",
    "details.head(10)"
   ]
  },
  {
   "cell_type": "code",
   "execution_count": null,
   "metadata": {},
   "outputs": [],
   "source": [
    "\n",
    "metrics = pf_azure_client.get_metrics(eval_run_variant)\n",
    "print(json.dumps(metrics, indent=4))"
   ]
  },
  {
   "cell_type": "code",
   "execution_count": null,
   "metadata": {},
   "outputs": [],
   "source": [
    "pf_azure_client.visualize([base_run, eval_run_variant])"
   ]
  }
 ],
 "metadata": {
  "kernelspec": {
   "display_name": ".venv",
   "language": "python",
   "name": "python3"
  },
  "language_info": {
   "codemirror_mode": {
    "name": "ipython",
    "version": 3
   },
   "file_extension": ".py",
   "mimetype": "text/x-python",
   "name": "python",
   "nbconvert_exporter": "python",
   "pygments_lexer": "ipython3",
   "version": "3.11.7"
  }
 },
 "nbformat": 4,
 "nbformat_minor": 2
}
